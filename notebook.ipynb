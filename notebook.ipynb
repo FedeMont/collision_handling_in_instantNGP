{
 "cells": [
  {
   "cell_type": "markdown",
   "metadata": {},
   "source": [
    "# NeRF: Collision Handling in Instant Neural Graphics Primitives\n",
    "Federico Montagna (fedemonti00@gmail.com)"
   ]
  },
  {
   "cell_type": "markdown",
   "metadata": {},
   "source": [
    "## Install requirements"
   ]
  },
  {
   "cell_type": "code",
   "execution_count": null,
   "metadata": {},
   "outputs": [],
   "source": [
    "# %pip install -r requirements.txt\n",
    "# %load_ext autoreload\n",
    "# %autoreload 2"
   ]
  },
  {
   "cell_type": "markdown",
   "metadata": {},
   "source": [
    "## Imports"
   ]
  },
  {
   "cell_type": "code",
   "execution_count": null,
   "metadata": {},
   "outputs": [],
   "source": [
    "from functions import *\n",
    "from utils import *\n",
    "from models import *\n",
    "from datasets import *"
   ]
  },
  {
   "cell_type": "code",
   "execution_count": null,
   "metadata": {},
   "outputs": [],
   "source": [
    "# input = torch.randn(5, 3).requires_grad_(True)\n",
    "# indices = torch.tensor([0., 0., 0., 0., 0.]).requires_grad_(True)\n",
    "# print(\"Input:\", input, input.shape)\n",
    "# print(\"Indices:\", indices, indices.shape)\n",
    "\n",
    "# output = DifferentiableIndexing().apply(input, indices, Custom_Indexing())  # Call the function\n",
    "# print(\"Output:\", output, output.shape)\n",
    "\n",
    "# # Assuming output is used in a computation...\n",
    "# loss = output.sum()\n",
    "# loss.backward()\n",
    "\n",
    "# # Gradients will be available in input.grad and custom_index.indices.grad\n",
    "# print(indices.grad) "
   ]
  },
  {
   "cell_type": "markdown",
   "metadata": {},
   "source": [
    "##  Load configuration"
   ]
  },
  {
   "cell_type": "code",
   "execution_count": null,
   "metadata": {},
   "outputs": [],
   "source": [
    "with open(\"config.yaml\", \"r\") as f:\n",
    "    config = yaml.safe_load(f)\n",
    "    config = config_apply_rules(config)\n"
   ]
  },
  {
   "cell_type": "code",
   "execution_count": null,
   "metadata": {},
   "outputs": [],
   "source": [
    "set_random_seed(seed=config[\"train_params\"][\"random_seed\"])"
   ]
  },
  {
   "cell_type": "markdown",
   "metadata": {},
   "source": [
    "## Load data"
   ]
  },
  {
   "cell_type": "code",
   "execution_count": null,
   "metadata": {},
   "outputs": [],
   "source": [
    "images_dataset = ImageDataset(\n",
    "    should_log=config[\"log_flags\"][\"dataset\"],\n",
    "    should_use_all_levels=config[\"train_params\"][\"learnable_hash_model\"][\"should_use_all_levels\"],\n",
    "    device=device,\n",
    "    **config[\"train_params\"][\"dataset\"]\n",
    ")\n"
   ]
  },
  {
   "cell_type": "markdown",
   "metadata": {},
   "source": [
    "## Load models"
   ]
  },
  {
   "cell_type": "code",
   "execution_count": null,
   "metadata": {},
   "outputs": [],
   "source": [
    "learnableHashFunctionModel = LearnableHashFunctionModel(\n",
    "    num_levels=config[\"train_params\"][\"dataset\"][\"num_levels\"],\n",
    "    input_size=images_dataset.get_num_dimensions(),\n",
    "    hash_table_size=eval(config[\"train_params\"][\"dataset\"][\"hash_table_size\"]),\n",
    "    should_static_hash=config[\"flags\"][\"should_fast_hash\"],\n",
    "    # should_use_all_levels=config[\"train_params\"][\"dataset\"][\"should_use_all_levels\"],\n",
    "    should_log=config[\"log_flags\"][\"learnable_hash_model\"],\n",
    "    device=device,\n",
    "    **config[\"train_params\"][\"learnable_hash_model\"],\n",
    ")\n",
    "\n",
    "gngfModel = GNGFModel(\n",
    "    learnable_hash_function_model=learnableHashFunctionModel,\n",
    "    batch_size=len(images_dataset),\n",
    "    num_levels=config[\"train_params\"][\"dataset\"][\"num_levels\"],\n",
    "    hash_table_size=eval(config[\"train_params\"][\"dataset\"][\"hash_table_size\"]),\n",
    "    should_learn_images=config[\"flags\"][\"should_learn_images\"],\n",
    "    should_log=config[\"log_flags\"][\"gngf_model\"],\n",
    "    device=device,\n",
    "    **config[\"train_params\"][\"gngf_model\"],\n",
    ")\n",
    "log((gngfModel), True)\n",
    "log((\"Number of parameters:\", sum(p.numel() for p in gngfModel.parameters() if p.requires_grad)), True, color=bcolors.WARNING)"
   ]
  },
  {
   "cell_type": "code",
   "execution_count": null,
   "metadata": {},
   "outputs": [],
   "source": [
    "loss_fn = Loss(\n",
    "    hash_table_size=eval(config[\"train_params\"][\"dataset\"][\"hash_table_size\"]),\n",
    "    should_use_all_levels=config[\"train_params\"][\"learnable_hash_model\"][\"should_use_all_levels\"],\n",
    "    should_log=config[\"log_flags\"][\"loss\"],\n",
    "    device=device,\n",
    "    **config[\"train_params\"][\"loss\"],\n",
    ")   \n",
    "\n",
    "\n",
    "models_parameters = {}\n",
    "opts = []\n",
    "if config[\"flags\"][\"should_learn_images\"]:\n",
    "    models_parameters[\"NeRF\"] = {\n",
    "        \"each\": [ # TODO change name\n",
    "            {\n",
    "                \"param\": gngfModel.hash_tables.parameters(),\n",
    "                \"lr\": eval(config[\"train_params\"][\"gngf_model\"][\"features\"][\"lr\"]),\n",
    "                \"weight_decay\": eval(config[\"train_params\"][\"gngf_model\"][\"features\"][\"weight_decay\"])\n",
    "            },\n",
    "            {\n",
    "                \"param\": gngfModel.mlp.parameters(),\n",
    "                \"lr\": eval(config[\"train_params\"][\"gngf_model\"][\"mlp\"][\"lr\"]),\n",
    "                \"weight_decay\": eval(config[\"train_params\"][\"gngf_model\"][\"mlp\"][\"weight_decay\"])\n",
    "            }\n",
    "        ],\n",
    "        \"betas\": config[\"train_params\"][\"gngf_model\"][\"betas\"],\n",
    "        \"eps\": eval(config[\"train_params\"][\"gngf_model\"][\"eps\"])\n",
    "    }\n",
    "    opts.append(eval(config[\"train_params\"][\"gngf_model\"][\"optimizer\"], {\"torch\": torch}))\n",
    "\n",
    "if not config[\"flags\"][\"should_fast_hash\"]:\n",
    "    models_parameters[\"learnable_hash\"] = {\n",
    "        \"each\": [ # TODO change name\n",
    "            {\n",
    "                \"param\": gngfModel.learnable_hash_function_model.parameters(),\n",
    "                \"lr\": eval(config[\"train_params\"][\"learnable_hash_model\"][\"lr\"]),\n",
    "                \"weight_decay\": eval(config[\"train_params\"][\"learnable_hash_model\"][\"weight_decay\"])\n",
    "            }\n",
    "        ],\n",
    "        \"betas\": config[\"train_params\"][\"learnable_hash_model\"][\"betas\"],\n",
    "        \"eps\": eval(config[\"train_params\"][\"learnable_hash_model\"][\"eps\"])\n",
    "    }\n",
    "    opts.append(eval(config[\"train_params\"][\"learnable_hash_model\"][\"optimizer\"], {\"torch\": torch}))\n",
    "\n",
    "optimizers = get_optimizer(\n",
    "    models_parameters=models_parameters,\n",
    "    optimizers=opts\n",
    ")\n",
    "\n",
    "scheduler = None\n",
    "if (\n",
    "    \"scheduler\" in config[\"train_params\"][\"learnable_hash_model\"].keys() \n",
    "    and config[\"train_params\"][\"learnable_hash_model\"][\"scheduler\"][\"name\"] is not None\n",
    "):\n",
    "    scheduler = get_scheduler(\n",
    "        scheduler=config[\"train_params\"][\"learnable_hash_model\"][\"scheduler\"][\"name\"],\n",
    "        optimizer=optimizers[\"learnable_hash\"],\n",
    "        step_size=config[\"train_params\"][\"learnable_hash_model\"][\"scheduler\"][\"step_size\"],\n",
    "        gamma_eta_min=eval(config[\"train_params\"][\"learnable_hash_model\"][\"scheduler\"][\"gamma_eta_min\"]),\n",
    "    )\n",
    "\n",
    "\n",
    "early_stopper = EarlyStopper(\n",
    "    tolerance=config[\"train_params\"][\"early_stopper\"][\"tolerance\"],\n",
    "    min_delta=eval(config[\"train_params\"][\"early_stopper\"][\"min_delta\"]),\n",
    ")\n"
   ]
  },
  {
   "cell_type": "markdown",
   "metadata": {},
   "source": [
    "## Load checkpoints"
   ]
  },
  {
   "cell_type": "code",
   "execution_count": null,
   "metadata": {},
   "outputs": [],
   "source": [
    "config, gngfModel, optimizers, scheduler = load_checkpoint(\n",
    "    config=config,\n",
    "    model=gngfModel,\n",
    "    optimizers=optimizers,\n",
    "    scheduler=scheduler,\n",
    "    weights_path=config[\"train_params\"][\"load_weights_path\"],\n",
    "    # new_epochs=config[\"train_params\"][\"epochs\"],\n",
    "    should_continue_training=config[\"flags\"][\"should_continue_training\"],\n",
    "    should_use_pretrained=config[\"flags\"][\"should_use_pretrained\"],\n",
    "    should_log=config[\"log_flags\"][\"load_checkpoint\"],\n",
    ")"
   ]
  },
  {
   "cell_type": "markdown",
   "metadata": {},
   "source": [
    "## Wandb init"
   ]
  },
  {
   "cell_type": "code",
   "execution_count": null,
   "metadata": {},
   "outputs": [],
   "source": [
    "wandb_init(\n",
    "    config\n",
    ")"
   ]
  },
  {
   "cell_type": "markdown",
   "metadata": {},
   "source": [
    "## Run"
   ]
  },
  {
   "cell_type": "code",
   "execution_count": null,
   "metadata": {},
   "outputs": [],
   "source": [
    "plt.ioff()\n",
    "should_draw = False\n",
    "\n",
    "try:\n",
    "    start_epoch = config[\"train_params\"][\"start_epoch\"]\n",
    "except KeyError:\n",
    "    start_epoch = 0\n",
    "\n",
    "pbar = tqdm(range(start_epoch, config[\"train_params\"][\"epochs\"]))\n",
    "best_loss = np.inf\n",
    "best_kl_div_loss = np.inf\n",
    "best_psnr = 0.0\n",
    "\n",
    "print_allocated_memory(config[\"log_flags\"][\"allocated_memory\"])\n",
    "\n",
    "for e in pbar:\n",
    "    should_draw = (\n",
    "        (e == config[\"train_params\"][\"epochs\"] - 1) \n",
    "        or \n",
    "        (e % config[\"train_params\"][\"drawing_rate\"] == 0) \n",
    "        or \n",
    "        early_stopper.early_stop\n",
    "    ) if config[\"train_params\"][\"drawing_rate\"] is not None else False\n",
    "    \n",
    "    if config[\"flags\"][\"should_fast_hash\"] and (e > 0):\n",
    "        should_draw = False\n",
    "    \n",
    "    results = run(\n",
    "        data=images_dataset[-1],\n",
    "        model=gngfModel,\n",
    "        loss_fn=loss_fn,\n",
    "        optimizers=optimizers,\n",
    "        scheduler=scheduler,\n",
    "        gradient_clip=(\n",
    "            eval(config[\"train_params\"][\"learnable_hash_model\"][\"gradient_clip\"])\n",
    "            if not config[\"flags\"][\"should_fast_hash\"]\n",
    "            else None\n",
    "        ),\n",
    "        should_use_all_levels=config[\"train_params\"][\"learnable_hash_model\"][\"should_use_all_levels\"],\n",
    "        should_draw=should_draw,\n",
    "        should_log=config[\"log_flags\"],\n",
    "        device=device,\n",
    "    )\n",
    "\n",
    "    loss, kl_div_loss, psnr = save_checkpoint(\n",
    "        epoch=e,\n",
    "        run_name=config[\"wandb\"][\"name\"],\n",
    "        model=gngfModel,\n",
    "        config=config,\n",
    "        best_loss=best_loss,\n",
    "        best_kl_div_loss=best_kl_div_loss,\n",
    "        best_psnr=best_psnr,\n",
    "        loss=results[list(results.keys())[-1]][\"loss\"],\n",
    "        kl_div_loss=np.mean(results[list(results.keys())[-1]][\"kl_div_losses\"]),\n",
    "        psnr=np.mean(results[list(results.keys())[-1]][\"images_psnr\"]) if config[\"flags\"][\"should_learn_images\"] else None,\n",
    "        NeRF_optimizer=optimizers[\"NeRF\"] if config[\"flags\"][\"should_learn_images\"] else None,\n",
    "        learnable_hash_optimizer=optimizers[\"learnable_hash\"] if not config[\"flags\"][\"should_fast_hash\"] else None,\n",
    "        save_weights_rate=config[\"train_params\"][\"save_weights_rate\"],\n",
    "        save_weights_path=config[\"train_params\"][\"save_weights_path\"],\n",
    "        should_early_stop=early_stopper.early_stop,\n",
    "        should_log=config[\"log_flags\"][\"save_checkpoint\"],\n",
    "    )\n",
    "    best_loss = loss\n",
    "    best_kl_div_loss = kl_div_loss\n",
    "    best_psnr = psnr\n",
    "    del loss, kl_div_loss, psnr\n",
    "\n",
    "    wandb_log(\n",
    "        e=e,\n",
    "        batch_size=len(config[\"train_params\"][\"dataset\"][\"images_paths\"]),\n",
    "        results=results,\n",
    "        lr=(\n",
    "            scheduler.get_last_lr()[0] \n",
    "            if scheduler is not None\n",
    "            else None\n",
    "        ),\n",
    "        should_log=config[\"log_flags\"][\"wandb\"],\n",
    "        should_wandb=config[\"flags\"][\"should_wandb\"],\n",
    "    )\n",
    "\n",
    "    if (\n",
    "        scheduler is not None\n",
    "        and \n",
    "        (\n",
    "            config[\"train_params\"][\"learnable_hash_model\"][\"scheduler\"][\"stop_epoch\"] > e\n",
    "        )\n",
    "    ):\n",
    "        scheduler.step()\n",
    "\n",
    "    if early_stopper.early_stop:\n",
    "        print(\"!!! Stopping at epoch:\", e, \"!!!\")\n",
    "\n",
    "        del results\n",
    "        break\n",
    "\n",
    "    early_stopper(results[list(results.keys())[-1]][\"loss\"])\n",
    "\n",
    "    description = f\"\"\"\n",
    "        Epoch {e} - {list(results.keys())[-1]} loss: {results[list(results.keys())[-1]]['loss']:5f},\n",
    "        Collisions: {results[list(results.keys())[-1]]['collisions']},\n",
    "        PSNR: {results[list(results.keys())[-1]]['images_psnr']}\n",
    "    \"\"\".replace(\"\\n\", \"\").replace(\"    \", \" \")\n",
    "    pbar.set_description(description)\n",
    "\n",
    "    print_allocated_memory(config[\"log_flags\"][\"allocated_memory\"])\n",
    "    del results"
   ]
  },
  {
   "cell_type": "code",
   "execution_count": null,
   "metadata": {},
   "outputs": [],
   "source": [
    "if config[\"flags\"][\"should_wandb\"]:\n",
    "    wandb.finish()\n",
    "\n",
    "print_allocated_memory(config[\"log_flags\"][\"allocated_memory\"])\n",
    "torch.cuda.empty_cache()\n",
    "print_allocated_memory(config[\"log_flags\"][\"allocated_memory\"])"
   ]
  },
  {
   "cell_type": "code",
   "execution_count": null,
   "metadata": {},
   "outputs": [],
   "source": [
    "a = images_dataset[-1][\"unique_grids_per_level\"]\n",
    "[a[l].shape for l in range(len(a))]"
   ]
  }
 ],
 "metadata": {
  "kernelspec": {
   "display_name": "project_course",
   "language": "python",
   "name": "python3"
  },
  "language_info": {
   "codemirror_mode": {
    "name": "ipython",
    "version": 3
   },
   "file_extension": ".py",
   "mimetype": "text/x-python",
   "name": "python",
   "nbconvert_exporter": "python",
   "pygments_lexer": "ipython3",
   "version": "3.10.12"
  }
 },
 "nbformat": 4,
 "nbformat_minor": 2
}
